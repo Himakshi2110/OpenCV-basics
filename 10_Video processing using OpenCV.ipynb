{
 "cells": [
  {
   "cell_type": "markdown",
   "metadata": {},
   "source": [
    "# <center> Event Callback Functions in OpenCV"
   ]
  },
  {
   "cell_type": "markdown",
   "metadata": {},
   "source": [
    "### List of events in OpenCV "
   ]
  },
  {
   "cell_type": "code",
   "execution_count": 1,
   "metadata": {},
   "outputs": [
    {
     "name": "stdout",
     "output_type": "stream",
     "text": [
      "['EVENT_FLAG_ALTKEY', 'EVENT_FLAG_CTRLKEY', 'EVENT_FLAG_LBUTTON', 'EVENT_FLAG_MBUTTON', 'EVENT_FLAG_RBUTTON', 'EVENT_FLAG_SHIFTKEY', 'EVENT_LBUTTONDBLCLK', 'EVENT_LBUTTONDOWN', 'EVENT_LBUTTONUP', 'EVENT_MBUTTONDBLCLK', 'EVENT_MBUTTONDOWN', 'EVENT_MBUTTONUP', 'EVENT_MOUSEHWHEEL', 'EVENT_MOUSEMOVE', 'EVENT_MOUSEWHEEL', 'EVENT_RBUTTONDBLCLK', 'EVENT_RBUTTONDOWN', 'EVENT_RBUTTONUP']\n"
     ]
    }
   ],
   "source": [
    "import cv2 \n",
    "events = [i for i in dir(cv2) if 'EVENT' in i]\n",
    "print( events )"
   ]
  },
  {
   "cell_type": "code",
   "execution_count": 2,
   "metadata": {},
   "outputs": [],
   "source": [
    "import numpy as np\n",
    "import cv2\n",
    "import os\n",
    "# create a mouse callback function\n",
    "def draw_circle(event,x,y,flags,param):\n",
    "    if event == cv2.EVENT_LBUTTONDBLCLK:\n",
    "        cv2.circle(img,(x,y),10,(0,0,255),-1)\n",
    "        \n",
    "# Create a black image, a window and bind the function to window\n",
    "img = np.zeros((300,300,3), np.uint8)\n",
    "cv2.namedWindow('image')\n",
    "cv2.setMouseCallback('image',draw_circle)\n",
    "\n",
    "while(1):\n",
    "    cv2.imshow('image',img)\n",
    "    if cv2.waitKey(20) & 0xFF == 27:\n",
    "        break\n",
    "cv2.destroyAllWindows()"
   ]
  },
  {
   "cell_type": "markdown",
   "metadata": {},
   "source": [
    "![title](output/mouse_callback1.png)"
   ]
  },
  {
   "cell_type": "code",
   "execution_count": 3,
   "metadata": {},
   "outputs": [],
   "source": [
    "import numpy as np\n",
    "import cv2\n",
    "\n",
    "# create a mouse callback function\n",
    "def draw_rectangle(event,x,y,flags,param):\n",
    "    global x1, y1, flag1\n",
    "    if event == cv2.EVENT_LBUTTONDOWN:\n",
    "        flag1=True\n",
    "        x1=x\n",
    "        y1=y\n",
    "    elif event==cv2.EVENT_MOUSEMOVE:\n",
    "        if flag1==True:\n",
    "            cv2.rectangle(img,(x1,y1),(x,y),(0,255,0),5)\n",
    "            \n",
    "    elif event== cv2.EVENT_LBUTTONUP:\n",
    "        cv2.rectangle(img,(x1,y1),(x,y),(0,255,0),5)\n",
    "        flag1=False\n",
    "x1=0\n",
    "y1=0\n",
    "flag1=False\n",
    "# Create a black image, a window and bind the function to window\n",
    "img = np.ones((200,300,3), np.uint8)*255\n",
    "cv2.namedWindow('image')\n",
    "cv2.setMouseCallback('image',draw_rectangle)\n",
    "\n",
    "while(1):\n",
    "    cv2.imshow('image',img)\n",
    "    if cv2.waitKey(20) & 0xFF == 27:\n",
    "        break\n",
    "cv2.destroyAllWindows()"
   ]
  },
  {
   "cell_type": "code",
   "execution_count": null,
   "metadata": {},
   "outputs": [],
   "source": []
  },
  {
   "cell_type": "markdown",
   "metadata": {},
   "source": [
    "# <center> OpenCV for Video"
   ]
  },
  {
   "cell_type": "markdown",
   "metadata": {},
   "source": [
    "## Opening video file from computer "
   ]
  },
  {
   "cell_type": "code",
   "execution_count": 4,
   "metadata": {},
   "outputs": [
    {
     "name": "stdout",
     "output_type": "stream",
     "text": [
      "Frame count is 300.0 and it was recorded at 29 fps\n"
     ]
    }
   ],
   "source": [
    "import cv2\n",
    "cap=cv2.VideoCapture(os.path.join('images','coastguard_qcif_mono.y4m'))\n",
    "frame_count=cap.get(cv2.CAP_PROP_FRAME_COUNT)\n",
    "fps=int(cap.get(cv2.CAP_PROP_FPS))\n",
    "print(f'Frame count is {frame_count} and it was recorded at {fps} fps')\n",
    "if cap is None or not cap.isOpened():\n",
    "       print('Warning: unable to open video')\n",
    "ret,frame=cap.read()\n",
    "while ret==True:\n",
    "    cv2.imshow('Video',frame)\n",
    "    if cv2.waitKey(fps) & 0xFF==ord('e'):\n",
    "        break;\n",
    "    ret,frame=cap.read()\n",
    "cap.release()\n",
    "cv2.destroyAllWindows()"
   ]
  },
  {
   "cell_type": "markdown",
   "metadata": {},
   "source": [
    "## Turning on camera and displaying the live video"
   ]
  },
  {
   "cell_type": "code",
   "execution_count": 1,
   "metadata": {},
   "outputs": [],
   "source": [
    "import cv2\n",
    "cap=cv2.VideoCapture(0)\n",
    "while True:\n",
    "    ret,frame=cap.read()\n",
    "    if ret==False:\n",
    "        print('Sorry, No Camera Detected')\n",
    "        break\n",
    "    cv2.imshow('Video',frame)\n",
    "    if cv2.waitKey(1) & 0xFF==ord('e'):\n",
    "        break;\n",
    "cap.release()\n",
    "cv2.destroyAllWindows()\n",
    "    "
   ]
  },
  {
   "cell_type": "markdown",
   "metadata": {},
   "source": [
    "## Reading frames from the camera and saving as video file"
   ]
  },
  {
   "cell_type": "code",
   "execution_count": 6,
   "metadata": {},
   "outputs": [],
   "source": [
    "import cv2\n",
    "cap = cv2.VideoCapture(0)\n",
    "if cap is None or not cap.isOpened():\n",
    "       print('Warning: unable to open video')\n",
    "width=cap.get(cv2.CAP_PROP_FRAME_WIDTH)\n",
    "height=cap.get(cv2.CAP_PROP_FRAME_HEIGHT)\n",
    "fps=cap.get(cv2.CAP_PROP_FPS)\n",
    "videoSave=cv2.VideoWriter(os.path.join('images','myvideo_smiling.mp4'),cv2.VideoWriter_fourcc(*'DIVX'),fps,(int(width),int(height)))\n",
    "while True:\n",
    "    ret,frame=cap.read()\n",
    "    if ret==False:\n",
    "        print(\"No camera is detected\")\n",
    "        break\n",
    "    cv2.imshow('My video',frame)\n",
    "    videoSave.write(frame)\n",
    "    if cv2.waitKey(1) & 0xFF==ord('e'):\n",
    "        break;\n",
    "cap.release()\n",
    "videoSave.release()\n",
    "cv2.destroyAllWindows()"
   ]
  },
  {
   "cell_type": "code",
   "execution_count": null,
   "metadata": {},
   "outputs": [],
   "source": []
  }
 ],
 "metadata": {
  "kernelspec": {
   "display_name": "Python 3",
   "language": "python",
   "name": "python3"
  },
  "language_info": {
   "codemirror_mode": {
    "name": "ipython",
    "version": 3
   },
   "file_extension": ".py",
   "mimetype": "text/x-python",
   "name": "python",
   "nbconvert_exporter": "python",
   "pygments_lexer": "ipython3",
   "version": "3.8.5"
  }
 },
 "nbformat": 4,
 "nbformat_minor": 2
}
