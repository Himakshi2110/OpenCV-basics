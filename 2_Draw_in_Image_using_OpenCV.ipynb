{
 "cells": [
  {
   "cell_type": "markdown",
   "metadata": {},
   "source": [
    "## Draw in Image\n",
    "\n",
    "* Create black or white background image\n",
    "* Draw Line\n",
    "* Draw Rectangle\n",
    "* Draw Circle\n",
    "* Draw Polygon\n",
    "* Put Text\n",
    "\n",
    "## Cropping Image\n",
    "\n",
    "\n",
    "--------------------------------------------"
   ]
  },
  {
   "cell_type": "code",
   "execution_count": 2,
   "metadata": {},
   "outputs": [],
   "source": [
    "import numpy as np\n",
    "import cv2"
   ]
  },
  {
   "cell_type": "markdown",
   "metadata": {},
   "source": [
    "### Function for display image:"
   ]
  },
  {
   "cell_type": "code",
   "execution_count": 3,
   "metadata": {},
   "outputs": [],
   "source": [
    "def image_show(window_name,image):\n",
    "    cv2.imshow(window_name,image)\n",
    "    cv2.waitKey()\n",
    "    cv2.destroyAllWindows()\n",
    "    \n",
    "def image_show_multiple(window_name,image):\n",
    "    for i,item in enumerate(window_name):\n",
    "        cv2.imshow(window_name[i],image[i])\n",
    "    cv2.waitKey()\n",
    "    cv2.destroyAllWindows()"
   ]
  },
  {
   "cell_type": "markdown",
   "metadata": {},
   "source": [
    "### Create image"
   ]
  },
  {
   "cell_type": "code",
   "execution_count": 4,
   "metadata": {},
   "outputs": [],
   "source": [
    "sizeI=(200,500,3)\n",
    "image_black=np.zeros(sizeI) # Black Image\n",
    "sizeI=(200,500,3)\n",
    "image_white=np.ones(sizeI)*255 # White Image\n",
    "window_name=['Black','White']\n",
    "images=[image_black,image_white]\n",
    "image_show_multiple(window_name,images)"
   ]
  },
  {
   "cell_type": "markdown",
   "metadata": {},
   "source": [
    "### Expected Output: \n",
    "![title](output/draw0.png)"
   ]
  },
  {
   "cell_type": "markdown",
   "metadata": {},
   "source": [
    "### Draw line"
   ]
  },
  {
   "cell_type": "code",
   "execution_count": 5,
   "metadata": {},
   "outputs": [],
   "source": [
    "sizeI=(200,500,3)\n",
    "imag=np.zeros(sizeI) # Black Image\n",
    "start_point=(100,100)\n",
    "end_point=(400,100)\n",
    "thickness=3\n",
    "imag=cv2.line(imag,start_point,end_point,(255,0,0),thickness)\n",
    "image_show('Draw Line',imag)"
   ]
  },
  {
   "cell_type": "markdown",
   "metadata": {},
   "source": [
    "### Expected Output: \n",
    "![title](output/draw1.png)"
   ]
  },
  {
   "cell_type": "markdown",
   "metadata": {},
   "source": [
    "### Draw rectangle"
   ]
  },
  {
   "cell_type": "code",
   "execution_count": 6,
   "metadata": {},
   "outputs": [],
   "source": [
    "sizeI=(200,500,3)\n",
    "imag=np.zeros(sizeI) # Black Image\n",
    "start_point=(50,50)\n",
    "end_point=(400,100)\n",
    "color=(255,255,255)\n",
    "thickness=3\n",
    "imag=cv2.rectangle(imag,start_point,end_point,color,thickness)\n",
    "image_show('Draw Rectange',imag)"
   ]
  },
  {
   "cell_type": "markdown",
   "metadata": {},
   "source": [
    "### Expected Output: \n",
    "![title](output/draw2.png)"
   ]
  },
  {
   "cell_type": "markdown",
   "metadata": {},
   "source": [
    "### Draw circle"
   ]
  },
  {
   "cell_type": "code",
   "execution_count": 7,
   "metadata": {},
   "outputs": [],
   "source": [
    "sizeI=(300,500,3)\n",
    "imag=np.ones(sizeI)*255 # white Image\n",
    "center_point=(250,150)\n",
    "radius=50\n",
    "color=(0,255,0)\n",
    "thickness=3\n",
    "imag=cv2.circle(imag,center_point,radius,color,thickness)\n",
    "image_show('Draw Circle',imag)"
   ]
  },
  {
   "cell_type": "markdown",
   "metadata": {},
   "source": [
    "### Expected Output: \n",
    "![title](output/draw3.png)"
   ]
  },
  {
   "cell_type": "markdown",
   "metadata": {},
   "source": [
    "### Draw polygon"
   ]
  },
  {
   "cell_type": "code",
   "execution_count": 8,
   "metadata": {},
   "outputs": [],
   "source": [
    "sizeI=(200,400,3)\n",
    "imag=np.zeros(sizeI) # Black Image\n",
    "# Polygon corner points coordinates \n",
    "points = np.array([[75, 70], [75, 160],  \n",
    "                [150, 200], [250, 160],  \n",
    "                [250, 70], [150, 20]], \n",
    "               np.int32) \n",
    "color=(255,0,255)\n",
    "thickness=3\n",
    "isClosed=True\n",
    "image = cv2.polylines(imag, [points], isClosed, color, thickness) \n",
    "image_show('Draw Polygon',imag)"
   ]
  },
  {
   "cell_type": "markdown",
   "metadata": {},
   "source": [
    "### Expected Output: \n",
    "![title](output/draw4.png)"
   ]
  },
  {
   "cell_type": "markdown",
   "metadata": {},
   "source": [
    "### Put text in images"
   ]
  },
  {
   "cell_type": "code",
   "execution_count": 9,
   "metadata": {},
   "outputs": [],
   "source": [
    "sizeI=(200,500,3)\n",
    "imag=np.zeros(sizeI) # Black Image\n",
    "font = cv2.FONT_HERSHEY_SIMPLEX\n",
    "start_point=(100,100)\n",
    "fontsize=1\n",
    "color=(255,255,0)\n",
    "thickness=3\n",
    "lineType= cv2.LINE_AA\n",
    "cv2.putText(imag, 'This is OpenCV', start_point,font,fontsize, color, thickness,lineType)\n",
    "image_show('Put Text in image',imag)"
   ]
  },
  {
   "cell_type": "markdown",
   "metadata": {},
   "source": [
    "### Expected Output: \n",
    "![title](output/draw5.png)"
   ]
  },
  {
   "cell_type": "markdown",
   "metadata": {},
   "source": [
    "## Image Cropping\n",
    "\n",
    "* The rows in the image corresponds to height and the column corresponds to the width. For example an image with width=300 and height =200 will have 200 rows and 300 columns in the matrix. Also a pixel at (250,50) is the image_array[50,250]\n",
    "* cropped_image = image[y:y+h, x:x+w]"
   ]
  },
  {
   "cell_type": "code",
   "execution_count": 10,
   "metadata": {},
   "outputs": [],
   "source": [
    "import os\n",
    "image_path=os.path.join('images','Dreaming_about_a_horse.jpg')\n",
    "image_1=cv2.imread(image_path)\n",
    "star_point=[250,50] #star pixel\n",
    "width=350\n",
    "height=250 \n",
    "cropped_img=image_1[star_point[1]:star_point[1]+height,star_point[0]:star_point[0]+width]\n",
    "image_show_multiple(['Original','Cropped'],[image_1,cropped_img])"
   ]
  },
  {
   "cell_type": "markdown",
   "metadata": {},
   "source": [
    "## Expected Ouput\n",
    "\n",
    "![title](output/cropped.png)"
   ]
  },
  {
   "cell_type": "markdown",
   "metadata": {},
   "source": [
    "## <center> Thank you"
   ]
  }
 ],
 "metadata": {
  "kernelspec": {
   "display_name": "Python 3",
   "language": "python",
   "name": "python3"
  },
  "language_info": {
   "codemirror_mode": {
    "name": "ipython",
    "version": 3
   },
   "file_extension": ".py",
   "mimetype": "text/x-python",
   "name": "python",
   "nbconvert_exporter": "python",
   "pygments_lexer": "ipython3",
   "version": "3.8.5"
  }
 },
 "nbformat": 4,
 "nbformat_minor": 4
}
