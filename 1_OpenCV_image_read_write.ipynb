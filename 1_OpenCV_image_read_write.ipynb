{
 "cells": [
  {
   "cell_type": "markdown",
   "metadata": {},
   "source": [
    "## OpenCV \n",
    "\n",
    "OpenCV is the huge open-source library for the computer vision, machine learning, and image processing. It was originally developed by Intel in 1999. OpenCV is written in C++ and its primary interface is in C++. All of the new developments and algorithms appear in the C++ interface. There are bindings in Python, Java and MATLAB/OCTAVE.\n",
    "\n",
    "### Content:\n",
    "\n",
    "* Read Image\n",
    "    * Find size of image\n",
    "    * Display height, width and number of channels\n",
    "* Display Image \n",
    "    * Read grayscale and display\n",
    "    * Display different channels\n",
    "* Split and Merge different channels\n",
    "* Write Image\n",
    "* Convert Colour Space\n",
    "    * Convert from BGR to HSV \n",
    "    * Convert from BGR to RGB\n",
    "    * Convert from RGB to Gray"
   ]
  },
  {
   "cell_type": "code",
   "execution_count": 25,
   "metadata": {},
   "outputs": [],
   "source": [
    "#Installing OpenCV in python\n",
    "#!pip install opencv-python"
   ]
  },
  {
   "cell_type": "code",
   "execution_count": 26,
   "metadata": {},
   "outputs": [],
   "source": [
    "# Import OpenCV library\n",
    "import cv2\n",
    "import os"
   ]
  },
  {
   "cell_type": "markdown",
   "metadata": {},
   "source": [
    "# Read image \n",
    "\n",
    "The images are read as numpy array which are three dimensional. The first dimension is width, second is height, and the third is the number of channels. In case of colour images it is three. "
   ]
  },
  {
   "cell_type": "code",
   "execution_count": 27,
   "metadata": {},
   "outputs": [
    {
     "name": "stdout",
     "output_type": "stream",
     "text": [
      "The shape of the image is:  (450, 600, 3)\n",
      "Height:  450\n",
      "Width:  600\n",
      "Channels:  3\n"
     ]
    }
   ],
   "source": [
    "image_path=os.path.join('images','Dreaming_about_a_horse.jpg')\n",
    "image_1=cv2.imread(image_path)\n",
    "print('The shape of the image is: ', image_1.shape)\n",
    "print('Height: ',image_1.shape[0])\n",
    "print('Width: ',image_1.shape[1])\n",
    "print('Channels: ',image_1.shape[2])"
   ]
  },
  {
   "cell_type": "markdown",
   "metadata": {},
   "source": [
    "### Expected Output:\n",
    "The shape of the image is:  (450, 600, 3)<br>\n",
    "Height:  450<br>\n",
    "Width:  600<br>\n",
    "Channels:  3<br>"
   ]
  },
  {
   "cell_type": "code",
   "execution_count": 28,
   "metadata": {},
   "outputs": [
    {
     "name": "stdout",
     "output_type": "stream",
     "text": [
      "Data Type of opencv read image <class 'numpy.ndarray'>\n"
     ]
    }
   ],
   "source": [
    "print('Data Type of opencv read image', type(image_1))"
   ]
  },
  {
   "cell_type": "markdown",
   "metadata": {},
   "source": [
    "### Expected Output:\n",
    "\n",
    "Data Type of opencv read image <class 'numpy.ndarray'>\n"
   ]
  },
  {
   "cell_type": "code",
   "execution_count": 29,
   "metadata": {},
   "outputs": [
    {
     "name": "stdout",
     "output_type": "stream",
     "text": [
      "The shape of the image is:  (183, 275, 3)\n"
     ]
    }
   ],
   "source": [
    "image_path=os.path.join('images','lion.jpeg')\n",
    "image_2=cv2.imread(image_path)\n",
    "print('The shape of the image is: ', image_2.shape)"
   ]
  },
  {
   "cell_type": "markdown",
   "metadata": {},
   "source": [
    "### Expected Output:\n",
    "The shape of the image is:  (183, 275, 3)\n"
   ]
  },
  {
   "cell_type": "markdown",
   "metadata": {},
   "source": [
    "# Display image using opencv"
   ]
  },
  {
   "cell_type": "code",
   "execution_count": 30,
   "metadata": {},
   "outputs": [],
   "source": [
    "#cv2.imshow('Window_name',image_array)\n",
    "cv2.imshow('Horse',image_1)\n",
    "cv2.imshow('Lion',image_2)\n",
    "cv2.waitKey()\n",
    "cv2.destroyAllWindows()"
   ]
  },
  {
   "cell_type": "markdown",
   "metadata": {},
   "source": [
    "### Expected output:\n",
    "####  Displaying saved screenshot of the output\n",
    "![title](output/Screenshot_windows.png)"
   ]
  },
  {
   "cell_type": "markdown",
   "metadata": {},
   "source": [
    "### Read colour image as grayscale Image"
   ]
  },
  {
   "cell_type": "code",
   "execution_count": 31,
   "metadata": {},
   "outputs": [],
   "source": [
    "img=cv2.imread(os.path.join('images','Dreaming_about_a_horse.jpg'),0 )\n",
    "cv2.imshow('Grayscale_image',img)\n",
    "cv2.waitKey()\n",
    "cv2.destroyAllWindows()"
   ]
  },
  {
   "cell_type": "markdown",
   "metadata": {},
   "source": [
    "### Expected Output:\n",
    "\n",
    "![title](output/Screenshot_read_grayscale.png)"
   ]
  },
  {
   "cell_type": "code",
   "execution_count": 11,
   "metadata": {},
   "outputs": [
    {
     "name": "stdout",
     "output_type": "stream",
     "text": [
      "The size of grayscale image is  (450, 600)\n",
      "It is a  2 dimensional array\n"
     ]
    }
   ],
   "source": [
    "print('The size of grayscale image is ',img.shape)\n",
    "print(f'It is a  {len(img.shape)} dimensional array')"
   ]
  },
  {
   "cell_type": "markdown",
   "metadata": {},
   "source": [
    "### Expected output:\n",
    "The size of grayscale image is  (450, 600)<br>\n",
    "It is a  2 dimensional array<br>"
   ]
  },
  {
   "cell_type": "markdown",
   "metadata": {},
   "source": [
    "### Printing channel values at random pixels"
   ]
  },
  {
   "cell_type": "code",
   "execution_count": 12,
   "metadata": {},
   "outputs": [
    {
     "name": "stdout",
     "output_type": "stream",
     "text": [
      "x=172 and y=559, pixel values are: [ 60  62 102]\n",
      "x=117 and y=192, pixel values are: [ 36  66 125]\n",
      "x=323 and y=359, pixel values are: [138 133 124]\n"
     ]
    }
   ],
   "source": [
    "#For the horse image\n",
    "import numpy as np # for generating random number\n",
    "np.random.seed(0)\n",
    "for i in range(3):\n",
    "    x=np.random.randint(image_1.shape[0])\n",
    "    y=np.random.randint(image_1.shape[1])\n",
    "    print(f'x={x} and y={y}, pixel values are: {image_1[x,y,:]}')"
   ]
  },
  {
   "cell_type": "markdown",
   "metadata": {},
   "source": [
    "### Expected Output:\n",
    "\n",
    "x=172 and y=559, pixel values are: [ 60  62 102]<br>\n",
    "x=117 and y=192, pixel values are: [ 36  66 125]<br>\n",
    "x=323 and y=359, pixel values are: [138 133 124]<br>"
   ]
  },
  {
   "cell_type": "code",
   "execution_count": 13,
   "metadata": {},
   "outputs": [
    {
     "name": "stdout",
     "output_type": "stream",
     "text": [
      "x=172 and y=47, pixel values are: [70 70 70]\n",
      "x=117 and y=192, pixel values are: [28 28 28]\n",
      "x=67 and y=251, pixel values are: [214 214 214]\n"
     ]
    }
   ],
   "source": [
    "#Although, the image of the Lion looks a grayscale image. \n",
    "#But it still has three channels where all the channels has same values as shown below.\n",
    "import numpy as np # for generating random number\n",
    "np.random.seed(0)\n",
    "for i in range(3):\n",
    "    x=np.random.randint(image_2.shape[0])\n",
    "    y=np.random.randint(image_2.shape[1])\n",
    "    print(f'x={x} and y={y}, pixel values are: {image_2[x,y,:]}')"
   ]
  },
  {
   "cell_type": "markdown",
   "metadata": {},
   "source": [
    "### Expected Output: \n",
    "* The pixel values at all the three channels are same\n",
    "\n",
    "x=172 and y=47, pixel values are: [70 70 70]<br>\n",
    "x=117 and y=192, pixel values are: [28 28 28]<br>\n",
    "x=67 and y=251, pixel values are: [214 214 214]<br>"
   ]
  },
  {
   "cell_type": "markdown",
   "metadata": {},
   "source": [
    "# Display the different channels of the image in different windows\n",
    "\n",
    "The three channels in different windows looks like grayscale image where the value at intensity at each pixel is the value of the channel.  "
   ]
  },
  {
   "cell_type": "code",
   "execution_count": 14,
   "metadata": {},
   "outputs": [],
   "source": [
    "channel_1=image_1[:,:,0]\n",
    "channel_2=image_1[:,:,1]\n",
    "channel_3=image_1[:,:,2]\n",
    "cv2.imshow('Channel 1',channel_1)\n",
    "cv2.imshow('Channel 2',channel_2)\n",
    "cv2.imshow('Channel 3',channel_3)\n",
    "\n",
    "cv2.waitKey()\n",
    "cv2.destroyAllWindows()"
   ]
  },
  {
   "cell_type": "markdown",
   "metadata": {},
   "source": [
    "## The expected output:\n",
    "![title](output/Screenshot_channels.png)"
   ]
  },
  {
   "cell_type": "markdown",
   "metadata": {},
   "source": [
    "# OpenCV reads the image channel as BGR not RGB\n",
    "\n",
    "In the image below, we can see the value of different channels R,G,B at pixel [126,313]. Also we print the value of different channels of image read using cv2 where the first channel value match with B, second channel with G and third channel with R.\n",
    "\n",
    "![title](output/Horse_pixel_screenshot.png)"
   ]
  },
  {
   "cell_type": "code",
   "execution_count": 15,
   "metadata": {},
   "outputs": [
    {
     "name": "stdout",
     "output_type": "stream",
     "text": [
      "Channel 1 =  126\n",
      "Channel 2 =  170\n",
      "Channel 3 =  217\n"
     ]
    }
   ],
   "source": [
    "print('Channel 1 = ',channel_1[126,313])\n",
    "print('Channel 2 = ',channel_2[126,313])\n",
    "print('Channel 3 = ',channel_3[126,313])"
   ]
  },
  {
   "cell_type": "markdown",
   "metadata": {},
   "source": [
    "-----------------------------------\n",
    "### Expected Output:\n",
    "\n",
    "Channel 1 =  126<br>\n",
    "Channel 2 =  170<br>\n",
    "Channel 3 =  217<br>"
   ]
  },
  {
   "cell_type": "markdown",
   "metadata": {},
   "source": [
    "# Displaying each channel as coloured image channel B as Blue, channel G as Green and channel R as Red"
   ]
  },
  {
   "cell_type": "code",
   "execution_count": 16,
   "metadata": {},
   "outputs": [],
   "source": [
    "channel_B=np.zeros(image_1.shape,dtype='uint8') #image with zeros in the three channels\n",
    "channel_B[:,:,0]=channel_1\n",
    "cv2.imshow('Blue',channel_B)\n",
    "\n",
    "channel_G=np.zeros(image_1.shape,dtype='uint8') #image with zeros in the three channels\n",
    "channel_G[:,:,1]=channel_2\n",
    "cv2.imshow('Green',channel_G)\n",
    "\n",
    "channel_R=np.zeros(image_1.shape,dtype='uint8') #image with zeros in the three channels\n",
    "channel_R[:,:,2]=channel_3\n",
    "cv2.imshow('Red',channel_R)\n",
    "\n",
    "cv2.waitKey()\n",
    "cv2.destroyAllWindows()"
   ]
  },
  {
   "cell_type": "markdown",
   "metadata": {},
   "source": [
    "## The output will be as follows\n",
    "![title](output/Screenshot_BGR.png)"
   ]
  },
  {
   "cell_type": "markdown",
   "metadata": {},
   "source": [
    "# Split and Merge Channels OpenCV"
   ]
  },
  {
   "cell_type": "code",
   "execution_count": 17,
   "metadata": {},
   "outputs": [],
   "source": [
    "#another way to split the channels of image is \n",
    "B,G,R=cv2.split(image_1)"
   ]
  },
  {
   "cell_type": "code",
   "execution_count": 18,
   "metadata": {},
   "outputs": [],
   "source": [
    "merged_image=cv2.merge([B,G*2,R])\n",
    "cv2.imshow('Merged Image with more Green', merged_image)\n",
    "cv2.waitKey()\n",
    "cv2.destroyAllWindows()"
   ]
  },
  {
   "cell_type": "markdown",
   "metadata": {},
   "source": [
    "## The expected output\n",
    "![title](output/Screenshot_merged_image.png)"
   ]
  },
  {
   "cell_type": "markdown",
   "metadata": {},
   "source": [
    "## Write Image"
   ]
  },
  {
   "cell_type": "code",
   "execution_count": 19,
   "metadata": {},
   "outputs": [
    {
     "data": {
      "text/plain": [
       "True"
      ]
     },
     "execution_count": 19,
     "metadata": {},
     "output_type": "execute_result"
    }
   ],
   "source": [
    "cv2.imwrite(os.path.join('images','Image_name.jpg'),image_1)"
   ]
  },
  {
   "cell_type": "code",
   "execution_count": 20,
   "metadata": {},
   "outputs": [],
   "source": [
    "img=cv2.imread(os.path.join('images','Image_name.jpg'))"
   ]
  },
  {
   "cell_type": "code",
   "execution_count": 21,
   "metadata": {},
   "outputs": [],
   "source": [
    "cv2.imshow('Window',img)\n",
    "cv2.waitKey()\n",
    "cv2.destroyAllWindows()"
   ]
  },
  {
   "cell_type": "markdown",
   "metadata": {},
   "source": [
    "# Convert Colour Space"
   ]
  },
  {
   "cell_type": "code",
   "execution_count": 22,
   "metadata": {},
   "outputs": [],
   "source": [
    "image_path=os.path.join('images','Dreaming_about_a_horse.jpg')\n",
    "image=cv2.imread(image_path)\n",
    "HSV_image=cv2.cvtColor(image,cv2.COLOR_BGR2HSV)\n",
    "cv2.imshow('HSV image',HSV_image)\n",
    "cv2.waitKey()\n",
    "cv2.destroyAllWindows()"
   ]
  },
  {
   "cell_type": "markdown",
   "metadata": {},
   "source": [
    "## The expected output\n",
    "![title](output/HSV_img.png)"
   ]
  },
  {
   "cell_type": "code",
   "execution_count": 23,
   "metadata": {},
   "outputs": [],
   "source": [
    "# BGR to RGB conversion\n",
    "RGB_image=cv2.cvtColor(image,cv2.COLOR_BGR2RGB)\n",
    "cv2.imshow('RGB image',RGB_image)\n",
    "cv2.waitKey()\n",
    "cv2.destroyAllWindows()"
   ]
  },
  {
   "cell_type": "markdown",
   "metadata": {},
   "source": [
    "\n",
    "#### The cv2.imshow considers the image to be in BGR format, i.e., first channel as Blue. \n",
    "#### Therefore the displayed RGB image will be in different as compared to original image. \n",
    "\n",
    "### Expected Output:\n",
    "![title](output/BGR2RGB_image.png)\n"
   ]
  },
  {
   "cell_type": "code",
   "execution_count": 24,
   "metadata": {},
   "outputs": [],
   "source": [
    "# RGB to gray conversion\n",
    "Gray_image=cv2.cvtColor(RGB_image,cv2.COLOR_RGB2GRAY)\n",
    "cv2.imshow('RGB2Grayimage',Gray_image)\n",
    "Gray_image=cv2.cvtColor(image,cv2.COLOR_BGR2GRAY)\n",
    "cv2.imshow('BGR2Gray image',Gray_image)\n",
    "cv2.waitKey()\n",
    "cv2.destroyAllWindows()"
   ]
  },
  {
   "cell_type": "markdown",
   "metadata": {},
   "source": [
    "### Expected Output:\n",
    " \n",
    " ![title](output/imgage1.png)\n"
   ]
  },
  {
   "cell_type": "markdown",
   "metadata": {},
   "source": [
    "# <center> Thank You"
   ]
  }
 ],
 "metadata": {
  "kernelspec": {
   "display_name": "Python 3",
   "language": "python",
   "name": "python3"
  },
  "language_info": {
   "codemirror_mode": {
    "name": "ipython",
    "version": 3
   },
   "file_extension": ".py",
   "mimetype": "text/x-python",
   "name": "python",
   "nbconvert_exporter": "python",
   "pygments_lexer": "ipython3",
   "version": "3.8.5"
  }
 },
 "nbformat": 4,
 "nbformat_minor": 4
}
