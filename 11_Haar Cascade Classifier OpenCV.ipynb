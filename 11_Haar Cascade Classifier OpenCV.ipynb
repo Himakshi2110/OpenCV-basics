{
 "cells": [
  {
   "cell_type": "markdown",
   "metadata": {},
   "source": [
    "# <center> Haar Cascade Classifier\n",
    "\n",
    "* Object detection using Haar Cascade classifiers was proposed by Paul Viola and Michael Jones in their paper Rapid Object Detection using a Boosted Cascade of Simple Features. The Haar feature based classifiers are trained using a large number of positive and negative samples using the machine learning approach. The positive samples contain the object that we want to detect and the negative images are any image that do not contain the targetted object. For example the face detection classifier is trained with positive images containing faces. \n",
    "    \n",
    "* It uses the AdaBoost algorithm to select the best features for the classification.\n",
    "    \n",
    "* It is called Cascade of Classifiers because Instead of applying all features on a window, the features are grouped into different stages of classifiers and applied one-by-one. If a window fails the first stage, it is discarded and the remaining features are not considered on it. If it passes all stages that it is detected as a face region.\n",
    "    "
   ]
  },
  {
   "cell_type": "markdown",
   "metadata": {},
   "source": [
    "OpenCV provides Haar cascade training method using positive and negative samples and also pre-trained Haar cascade classfiers which can be downloaded from the link https://github.com/opencv/opencv/tree/master/data/haarcascades "
   ]
  },
  {
   "cell_type": "code",
   "execution_count": 2,
   "metadata": {},
   "outputs": [],
   "source": [
    "import numpy as np\n",
    "import cv2\n",
    "import os\n",
    "faceClassPath='haarcascade_frontalface_alt.xml'\n",
    "smileClassPath='haarcascade_smile.xml'\n",
    "faceCascade = cv2.CascadeClassifier(faceClassPath)\n",
    "smileCascade = cv2.CascadeClassifier(smileClassPath)\n",
    "\n",
    "# A smiling face\n",
    "image1=cv2.imread(os.path.join('images','smiling_image.jpg'))\n",
    "image1_gray=cv2.cvtColor(image1,cv2.COLOR_BGR2GRAY)\n",
    "\n",
    "\n",
    "faces = faceCascade.detectMultiScale(\n",
    "        image1_gray,\n",
    "        scaleFactor=1.3,\n",
    "        minNeighbors=5,\n",
    ")\n",
    "#if faces==():\n",
    "#        print ('No face detected')\n",
    "# Draw a rectangle around the faces\n",
    "for (x, y, w, h) in faces:\n",
    "    cv2.rectangle(image1, (x, y), (x+w, y+h), (0, 255, 0), 2)\n",
    "    roi=image1_gray[y:y+h,x:x+w]  \n",
    "    smiles = smileCascade.detectMultiScale(roi,1.2,5)\n",
    "    for (x1, y1, w1, h1) in smiles:\n",
    "            cv2.rectangle(image1, (x+x1, y+y1), (x+x1+w1, y+y1+h1), (0, 255, 0), 2)\n",
    "while(1):\n",
    "    cv2.imshow('Window',image1)\n",
    "    if cv2.waitKey(20) & 0xFF == 27:\n",
    "        break\n",
    "cv2.destroyAllWindows()\n"
   ]
  },
  {
   "cell_type": "markdown",
   "metadata": {},
   "source": [
    "![title](output/smiling_detected1.png)"
   ]
  },
  {
   "cell_type": "code",
   "execution_count": 3,
   "metadata": {},
   "outputs": [],
   "source": [
    "\n",
    "# Not smiling face\n",
    "import numpy as np\n",
    "import cv2\n",
    "import os\n",
    "faceClassPath='haarcascade_frontalface_alt.xml'\n",
    "smileClassPath='haarcascade_smile.xml'\n",
    "faceCascade = cv2.CascadeClassifier(faceClassPath)\n",
    "smileCascade = cv2.CascadeClassifier(smileClassPath)\n",
    "\n",
    "# Not smiling face\n",
    "image1=cv2.imread(os.path.join('images','not_smiling.jpeg'))\n",
    "image1_gray=cv2.cvtColor(image1,cv2.COLOR_BGR2GRAY)\n",
    "\n",
    "\n",
    "faces = faceCascade.detectMultiScale(\n",
    "        image1_gray,\n",
    "        scaleFactor=1.3,\n",
    "        minNeighbors=5,\n",
    ")\n",
    "#if faces==():\n",
    "#        print ('No face detected')\n",
    "# Draw a rectangle around the faces\n",
    "for (x, y, w, h) in faces:\n",
    "    cv2.rectangle(image1, (x, y), (x+w, y+h), (0, 255, 0), 2)\n",
    "    roi=image1_gray[y:y+h,x:x+w]  \n",
    "    smiles = smileCascade.detectMultiScale(roi,1.3,5)\n",
    "    if len(smiles)==0:\n",
    "        cv2.putText(image1,'Not Smiling',org=(20,20),fontFace=cv2.FONT_HERSHEY_SIMPLEX,fontScale=1,color=(0,255,0))\n",
    "    for (x1, y1, w1, h1) in smiles:\n",
    "            cv2.rectangle(image1, (x+x1, y+y1), (x+x1+w1, y+y1+h1), (0, 255, 0), 2)\n",
    "while(1):\n",
    "    cv2.imshow('Window',image1)\n",
    "    if cv2.waitKey(20) & 0xFF == 27:\n",
    "        break\n",
    "cv2.destroyAllWindows()\n"
   ]
  },
  {
   "cell_type": "markdown",
   "metadata": {},
   "source": [
    "![title](output/smile_not_detected.png)"
   ]
  },
  {
   "cell_type": "code",
   "execution_count": 4,
   "metadata": {},
   "outputs": [],
   "source": [
    "#'myvideo.mp4'\n",
    "import cv2\n",
    "import numpy as np\n",
    "faceClassPath='haarcascade_frontalface_alt.xml'\n",
    "smileClassPath='haarcascade_smile.xml'\n",
    "faceCascade = cv2.CascadeClassifier(faceClassPath)\n",
    "smileCascade = cv2.CascadeClassifier(smileClassPath)\n",
    "cap=cv2.VideoCapture(os.path.join('images','myvideo_smiling.mp4'))\n",
    "fps=int(cap.get(cv2.CAP_PROP_FPS))\n",
    "if cap is None or not cap.isOpened():\n",
    "       print('Warning: unable to open video')\n",
    "ret,frame=cap.read()\n",
    "while ret==True:    \n",
    "    brightness=np.ones(frame.shape,np.uint8)*100\n",
    "    frame=cv2.add(frame,brightness)\n",
    "    image_gray=cv2.cvtColor(frame,cv2.COLOR_BGR2GRAY)\n",
    "    faces = faceCascade.detectMultiScale(\n",
    "            image_gray,\n",
    "            scaleFactor=1.3,\n",
    "            minNeighbors=5,\n",
    "    )\n",
    "    for (x, y, w, h) in faces:\n",
    "        cv2.rectangle(frame, (x, y), (x+w, y+h), (0, 255, 0), 2)\n",
    "        roi=image_gray[y:y+h,x:x+w]  \n",
    "        smiles = smileCascade.detectMultiScale(roi,1.3,10)\n",
    "        for (x1, y1, w1, h1) in smiles:\n",
    "                cv2.rectangle(frame, (x+x1, y+y1), (x+x1+w1, y+y1+h1), (0, 255, 0), 2)\n",
    "        cv2.imshow('Video',cv2.flip(frame,1))\n",
    "    if cv2.waitKey(10) & 0xFF==ord('e'):\n",
    "        break;\n",
    "    ret,frame=cap.read()\n",
    "cap.release()\n",
    "cv2.destroyAllWindows()"
   ]
  },
  {
   "cell_type": "markdown",
   "metadata": {},
   "source": [
    "##  Training own OpenCV Haar Classifier ........ "
   ]
  },
  {
   "cell_type": "markdown",
   "metadata": {},
   "source": [
    "# <center> Thank you"
   ]
  }
 ],
 "metadata": {
  "kernelspec": {
   "display_name": "Python 3",
   "language": "python",
   "name": "python3"
  },
  "language_info": {
   "codemirror_mode": {
    "name": "ipython",
    "version": 3
   },
   "file_extension": ".py",
   "mimetype": "text/x-python",
   "name": "python",
   "nbconvert_exporter": "python",
   "pygments_lexer": "ipython3",
   "version": "3.8.5"
  }
 },
 "nbformat": 4,
 "nbformat_minor": 4
}
